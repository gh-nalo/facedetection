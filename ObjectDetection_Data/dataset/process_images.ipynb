{
 "cells": [
  {
   "cell_type": "code",
   "execution_count": 1,
   "metadata": {},
   "outputs": [],
   "source": [
    "import os\n",
    "import numpy as np\n",
    "import cv2 as cv"
   ]
  },
  {
   "cell_type": "markdown",
   "metadata": {},
   "source": [
    "##### Image source :: https://github.com/NVlabs/ffhq-dataset\n",
    "##### Collecting training images, resizing before labeling to decrease file sizes\n",
    "\n",
    "Processed folders:\n",
    "* Original Flickr Images\n",
    "    * Folder \"10000\"\n",
    "    * Folder \"11000\""
   ]
  },
  {
   "cell_type": "code",
   "execution_count": 23,
   "metadata": {},
   "outputs": [],
   "source": [
    "counter = 2000\n",
    "\n",
    "for i in np.arange(7) + 1:\n",
    "    path = os.path.join(\"./\", str(i))\n",
    "\n",
    "    for file in os.listdir(path):\n",
    "        # Read image\n",
    "        image = cv.imread(os.path.join(path, file))\n",
    "        ratio = image.shape[0] / image.shape[1]\n",
    "\n",
    "        # Resize image, keep aspect ratio\n",
    "        new_height = 640\n",
    "        new_width = int(new_height / ratio)\n",
    "        new_dim = (new_width, new_height)\n",
    "\n",
    "        image = cv.resize(image, new_dim)\n",
    "\n",
    "        # Save new image\n",
    "        image_path = \"./processed_images/\" + str(counter) + \".jpg\"\n",
    "        if not os.path.exists(image_path):\n",
    "            cv.imwrite(image_path, image)\n",
    "            counter += 1\n"
   ]
  },
  {
   "cell_type": "code",
   "execution_count": 24,
   "metadata": {},
   "outputs": [],
   "source": [
    "# Verify\n",
    "for file in os.listdir(\"./processed_images\"):\n",
    "    newImage = cv.imread(\"./processed_images/\" + file)\n",
    "    if(newImage.shape[0] != 640):\n",
    "        print(\"Faulty image:\", file)\n"
   ]
  }
 ],
 "metadata": {
  "interpreter": {
   "hash": "b3ba2566441a7c06988d0923437866b63cedc61552a5af99d1f4fb67d367b25f"
  },
  "kernelspec": {
   "display_name": "Python 3.9.7 64-bit ('base': conda)",
   "language": "python",
   "name": "python3"
  },
  "language_info": {
   "codemirror_mode": {
    "name": "ipython",
    "version": 3
   },
   "file_extension": ".py",
   "mimetype": "text/x-python",
   "name": "python",
   "nbconvert_exporter": "python",
   "pygments_lexer": "ipython3",
   "version": "3.9.7"
  },
  "orig_nbformat": 4
 },
 "nbformat": 4,
 "nbformat_minor": 2
}
